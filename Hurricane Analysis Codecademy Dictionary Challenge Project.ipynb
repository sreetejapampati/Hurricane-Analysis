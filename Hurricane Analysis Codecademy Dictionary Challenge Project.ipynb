{
 "cells": [
  {
   "cell_type": "code",
   "execution_count": 3,
   "id": "ab991e33",
   "metadata": {},
   "outputs": [],
   "source": [
    "# names of hurricanes\n",
    "names = ['Cuba I', 'San Felipe II Okeechobee', 'Bahamas', 'Cuba II', 'CubaBrownsville', 'Tampico', 'Labor Day', 'New England', 'Carol', 'Janet', 'Carla', 'Hattie', 'Beulah', 'Camille', 'Edith', 'Anita', 'David', 'Allen', 'Gilbert', 'Hugo', 'Andrew', 'Mitch', 'Isabel', 'Ivan', 'Emily', 'Katrina', 'Rita', 'Wilma', 'Dean', 'Felix', 'Matthew', 'Irma', 'Maria', 'Michael']\n",
    "\n",
    "# months of hurricanes\n",
    "months = ['October', 'September', 'September', 'November', 'August', 'September', 'September', 'September', 'September', 'September', 'September', 'October', 'September', 'August', 'September', 'September', 'August', 'August', 'September', 'September', 'August', 'October', 'September', 'September', 'July', 'August', 'September', 'October', 'August', 'September', 'October', 'September', 'September', 'October']\n",
    "\n",
    "# years of hurricanes\n",
    "years = [1924, 1928, 1932, 1932, 1933, 1933, 1935, 1938, 1953, 1955, 1961, 1961, 1967, 1969, 1971, 1977, 1979, 1980, 1988, 1989, 1992, 1998, 2003, 2004, 2005, 2005, 2005, 2005, 2007, 2007, 2016, 2017, 2017, 2018]\n",
    "\n",
    "# maximum sustained winds (mph) of hurricanes\n",
    "max_sustained_winds = [165, 160, 160, 175, 160, 160, 185, 160, 160, 175, 175, 160, 160, 175, 160, 175, 175, 190, 185, 160, 175, 180, 165, 165, 160, 175, 180, 185, 175, 175, 165, 180, 175, 160]\n",
    "\n",
    "# areas affected by each hurricane\n",
    "areas_affected = [['Central America', 'Mexico', 'Cuba', 'Florida', 'The Bahamas'], ['Lesser Antilles', 'The Bahamas', 'United States East Coast', 'Atlantic Canada'], ['The Bahamas', 'Northeastern United States'], ['Lesser Antilles', 'Jamaica', 'Cayman Islands', 'Cuba', 'The Bahamas', 'Bermuda'], ['The Bahamas', 'Cuba', 'Florida', 'Texas', 'Tamaulipas'], ['Jamaica', 'Yucatn Peninsula'], ['The Bahamas', 'Florida', 'Georgia', 'The Carolinas', 'Virginia'], ['Southeastern United States', 'Northeastern United States', 'Southwestern Quebec'], ['Bermuda', 'New England', 'Atlantic Canada'], ['Lesser Antilles', 'Central America'], ['Texas', 'Louisiana', 'Midwestern United States'], ['Central America'], ['The Caribbean', 'Mexico', 'Texas'], ['Cuba', 'United States Gulf Coast'], ['The Caribbean', 'Central America', 'Mexico', 'United States Gulf Coast'], ['Mexico'], ['The Caribbean', 'United States East coast'], ['The Caribbean', 'Yucatn Peninsula', 'Mexico', 'South Texas'], ['Jamaica', 'Venezuela', 'Central America', 'Hispaniola', 'Mexico'], ['The Caribbean', 'United States East Coast'], ['The Bahamas', 'Florida', 'United States Gulf Coast'], ['Central America', 'Yucatn Peninsula', 'South Florida'], ['Greater Antilles', 'Bahamas', 'Eastern United States', 'Ontario'], ['The Caribbean', 'Venezuela', 'United States Gulf Coast'], ['Windward Islands', 'Jamaica', 'Mexico', 'Texas'], ['Bahamas', 'United States Gulf Coast'], ['Cuba', 'United States Gulf Coast'], ['Greater Antilles', 'Central America', 'Florida'], ['The Caribbean', 'Central America'], ['Nicaragua', 'Honduras'], ['Antilles', 'Venezuela', 'Colombia', 'United States East Coast', 'Atlantic Canada'], ['Cape Verde', 'The Caribbean', 'British Virgin Islands', 'U.S. Virgin Islands', 'Cuba', 'Florida'], ['Lesser Antilles', 'Virgin Islands', 'Puerto Rico', 'Dominican Republic', 'Turks and Caicos Islands'], ['Central America', 'United States Gulf Coast (especially Florida Panhandle)']]\n",
    "\n",
    "# damages (USD($)) of hurricanes\n",
    "damages = ['Damages not recorded', '100M', 'Damages not recorded', '40M', '27.9M', '5M', 'Damages not recorded', '306M', '2M', '65.8M', '326M', '60.3M', '208M', '1.42B', '25.4M', 'Damages not recorded', '1.54B', '1.24B', '7.1B', '10B', '26.5B', '6.2B', '5.37B', '23.3B', '1.01B', '125B', '12B', '29.4B', '1.76B', '720M', '15.1B', '64.8B', '91.6B', '25.1B']\n",
    "\n",
    "# deaths for each hurricane\n",
    "deaths = [90,4000,16,3103,179,184,408,682,5,1023,43,319,688,259,37,11,2068,269,318,107,65,19325,51,124,17,1836,125,87,45,133,603,138,3057,74]"
   ]
  },
  {
   "cell_type": "code",
   "execution_count": 4,
   "id": "56205c48",
   "metadata": {},
   "outputs": [
    {
     "name": "stdout",
     "output_type": "stream",
     "text": [
      "['Damages not recorded', 100000000.0, 'Damages not recorded', 40000000.0, 27900000.0, 5000000.0, 'Damages not recorded', 306000000.0, 2000000.0, 65800000.0, 326000000.0, 60300000.0, 208000000.0, 1420000000.0, 25400000.0, 'Damages not recorded', 1540000000.0, 1240000000.0, 7100000000.0, 10000000000.0, 26500000000.0, 6200000000.0, 5370000000.0, 23300000000.0, 1010000000.0, 125000000000.0, 12000000000.0, 29400000000.0, 1760000000.0, 720000000.0, 15100000000.0, 64800000000.0, 91600000000.0, 25100000000.0]\n"
     ]
    }
   ],
   "source": [
    "def update_damages(damages):\n",
    "  conversion = {\"M\": 1000000,\n",
    "              \"B\": 1000000000}\n",
    "  damages_new = []\n",
    "  for damage in damages:\n",
    "    if damage==\"Damages not recorded\":\n",
    "      damages_new.append(damage)\n",
    "    if \"M\" in damage:\n",
    "      damages_new.append(float(damage.strip(\"M\"))*conversion[\"M\"])\n",
    "    elif \"B\" in damage:\n",
    "      damages_new.append(float(damage.strip(\"B\"))*conversion[\"B\"])\n",
    "  return damages_new\n",
    "  \n",
    "damages_new = update_damages(damages)  \n",
    "print(damages_new)\n"
   ]
  },
  {
   "cell_type": "code",
   "execution_count": 5,
   "id": "da00fa1a",
   "metadata": {},
   "outputs": [],
   "source": [
    "def hurricane_dictionary(names, months, years, max_sustained_winds, areas_affected, damages_new, deaths):\n",
    "  hurricanes = dict()\n",
    "  for i in range(len(names)):\n",
    "    hurricanes[names[i]]={\"Name\": names[i], \"Month\": months[i], \"Year\": years[i], \"Max Sustained Wind\":max_sustained_winds[i], \"Areas Affected\":areas_affected[i], \"Damage\":damages_new[i],\"Deaths\":deaths[i]}\n",
    "  return hurricanes"
   ]
  },
  {
   "cell_type": "code",
   "execution_count": 8,
   "id": "90657597",
   "metadata": {},
   "outputs": [
    {
     "name": "stdout",
     "output_type": "stream",
     "text": [
      "{'Cuba I': {'Name': 'Cuba I', 'Month': 'October', 'Year': 1924, 'Max Sustained Wind': 165, 'Areas Affected': ['Central America', 'Mexico', 'Cuba', 'Florida', 'The Bahamas'], 'Damage': 'Damages not recorded', 'Deaths': 90}, 'San Felipe II Okeechobee': {'Name': 'San Felipe II Okeechobee', 'Month': 'September', 'Year': 1928, 'Max Sustained Wind': 160, 'Areas Affected': ['Lesser Antilles', 'The Bahamas', 'United States East Coast', 'Atlantic Canada'], 'Damage': 100000000.0, 'Deaths': 4000}, 'Bahamas': {'Name': 'Bahamas', 'Month': 'September', 'Year': 1932, 'Max Sustained Wind': 160, 'Areas Affected': ['The Bahamas', 'Northeastern United States'], 'Damage': 'Damages not recorded', 'Deaths': 16}, 'Cuba II': {'Name': 'Cuba II', 'Month': 'November', 'Year': 1932, 'Max Sustained Wind': 175, 'Areas Affected': ['Lesser Antilles', 'Jamaica', 'Cayman Islands', 'Cuba', 'The Bahamas', 'Bermuda'], 'Damage': 40000000.0, 'Deaths': 3103}, 'CubaBrownsville': {'Name': 'CubaBrownsville', 'Month': 'August', 'Year': 1933, 'Max Sustained Wind': 160, 'Areas Affected': ['The Bahamas', 'Cuba', 'Florida', 'Texas', 'Tamaulipas'], 'Damage': 27900000.0, 'Deaths': 179}, 'Tampico': {'Name': 'Tampico', 'Month': 'September', 'Year': 1933, 'Max Sustained Wind': 160, 'Areas Affected': ['Jamaica', 'Yucatn Peninsula'], 'Damage': 5000000.0, 'Deaths': 184}, 'Labor Day': {'Name': 'Labor Day', 'Month': 'September', 'Year': 1935, 'Max Sustained Wind': 185, 'Areas Affected': ['The Bahamas', 'Florida', 'Georgia', 'The Carolinas', 'Virginia'], 'Damage': 'Damages not recorded', 'Deaths': 408}, 'New England': {'Name': 'New England', 'Month': 'September', 'Year': 1938, 'Max Sustained Wind': 160, 'Areas Affected': ['Southeastern United States', 'Northeastern United States', 'Southwestern Quebec'], 'Damage': 306000000.0, 'Deaths': 682}, 'Carol': {'Name': 'Carol', 'Month': 'September', 'Year': 1953, 'Max Sustained Wind': 160, 'Areas Affected': ['Bermuda', 'New England', 'Atlantic Canada'], 'Damage': 2000000.0, 'Deaths': 5}, 'Janet': {'Name': 'Janet', 'Month': 'September', 'Year': 1955, 'Max Sustained Wind': 175, 'Areas Affected': ['Lesser Antilles', 'Central America'], 'Damage': 65800000.0, 'Deaths': 1023}, 'Carla': {'Name': 'Carla', 'Month': 'September', 'Year': 1961, 'Max Sustained Wind': 175, 'Areas Affected': ['Texas', 'Louisiana', 'Midwestern United States'], 'Damage': 326000000.0, 'Deaths': 43}, 'Hattie': {'Name': 'Hattie', 'Month': 'October', 'Year': 1961, 'Max Sustained Wind': 160, 'Areas Affected': ['Central America'], 'Damage': 60300000.0, 'Deaths': 319}, 'Beulah': {'Name': 'Beulah', 'Month': 'September', 'Year': 1967, 'Max Sustained Wind': 160, 'Areas Affected': ['The Caribbean', 'Mexico', 'Texas'], 'Damage': 208000000.0, 'Deaths': 688}, 'Camille': {'Name': 'Camille', 'Month': 'August', 'Year': 1969, 'Max Sustained Wind': 175, 'Areas Affected': ['Cuba', 'United States Gulf Coast'], 'Damage': 1420000000.0, 'Deaths': 259}, 'Edith': {'Name': 'Edith', 'Month': 'September', 'Year': 1971, 'Max Sustained Wind': 160, 'Areas Affected': ['The Caribbean', 'Central America', 'Mexico', 'United States Gulf Coast'], 'Damage': 25400000.0, 'Deaths': 37}, 'Anita': {'Name': 'Anita', 'Month': 'September', 'Year': 1977, 'Max Sustained Wind': 175, 'Areas Affected': ['Mexico'], 'Damage': 'Damages not recorded', 'Deaths': 11}, 'David': {'Name': 'David', 'Month': 'August', 'Year': 1979, 'Max Sustained Wind': 175, 'Areas Affected': ['The Caribbean', 'United States East coast'], 'Damage': 1540000000.0, 'Deaths': 2068}, 'Allen': {'Name': 'Allen', 'Month': 'August', 'Year': 1980, 'Max Sustained Wind': 190, 'Areas Affected': ['The Caribbean', 'Yucatn Peninsula', 'Mexico', 'South Texas'], 'Damage': 1240000000.0, 'Deaths': 269}, 'Gilbert': {'Name': 'Gilbert', 'Month': 'September', 'Year': 1988, 'Max Sustained Wind': 185, 'Areas Affected': ['Jamaica', 'Venezuela', 'Central America', 'Hispaniola', 'Mexico'], 'Damage': 7100000000.0, 'Deaths': 318}, 'Hugo': {'Name': 'Hugo', 'Month': 'September', 'Year': 1989, 'Max Sustained Wind': 160, 'Areas Affected': ['The Caribbean', 'United States East Coast'], 'Damage': 10000000000.0, 'Deaths': 107}, 'Andrew': {'Name': 'Andrew', 'Month': 'August', 'Year': 1992, 'Max Sustained Wind': 175, 'Areas Affected': ['The Bahamas', 'Florida', 'United States Gulf Coast'], 'Damage': 26500000000.0, 'Deaths': 65}, 'Mitch': {'Name': 'Mitch', 'Month': 'October', 'Year': 1998, 'Max Sustained Wind': 180, 'Areas Affected': ['Central America', 'Yucatn Peninsula', 'South Florida'], 'Damage': 6200000000.0, 'Deaths': 19325}, 'Isabel': {'Name': 'Isabel', 'Month': 'September', 'Year': 2003, 'Max Sustained Wind': 165, 'Areas Affected': ['Greater Antilles', 'Bahamas', 'Eastern United States', 'Ontario'], 'Damage': 5370000000.0, 'Deaths': 51}, 'Ivan': {'Name': 'Ivan', 'Month': 'September', 'Year': 2004, 'Max Sustained Wind': 165, 'Areas Affected': ['The Caribbean', 'Venezuela', 'United States Gulf Coast'], 'Damage': 23300000000.0, 'Deaths': 124}, 'Emily': {'Name': 'Emily', 'Month': 'July', 'Year': 2005, 'Max Sustained Wind': 160, 'Areas Affected': ['Windward Islands', 'Jamaica', 'Mexico', 'Texas'], 'Damage': 1010000000.0, 'Deaths': 17}, 'Katrina': {'Name': 'Katrina', 'Month': 'August', 'Year': 2005, 'Max Sustained Wind': 175, 'Areas Affected': ['Bahamas', 'United States Gulf Coast'], 'Damage': 125000000000.0, 'Deaths': 1836}, 'Rita': {'Name': 'Rita', 'Month': 'September', 'Year': 2005, 'Max Sustained Wind': 180, 'Areas Affected': ['Cuba', 'United States Gulf Coast'], 'Damage': 12000000000.0, 'Deaths': 125}, 'Wilma': {'Name': 'Wilma', 'Month': 'October', 'Year': 2005, 'Max Sustained Wind': 185, 'Areas Affected': ['Greater Antilles', 'Central America', 'Florida'], 'Damage': 29400000000.0, 'Deaths': 87}, 'Dean': {'Name': 'Dean', 'Month': 'August', 'Year': 2007, 'Max Sustained Wind': 175, 'Areas Affected': ['The Caribbean', 'Central America'], 'Damage': 1760000000.0, 'Deaths': 45}, 'Felix': {'Name': 'Felix', 'Month': 'September', 'Year': 2007, 'Max Sustained Wind': 175, 'Areas Affected': ['Nicaragua', 'Honduras'], 'Damage': 720000000.0, 'Deaths': 133}, 'Matthew': {'Name': 'Matthew', 'Month': 'October', 'Year': 2016, 'Max Sustained Wind': 165, 'Areas Affected': ['Antilles', 'Venezuela', 'Colombia', 'United States East Coast', 'Atlantic Canada'], 'Damage': 15100000000.0, 'Deaths': 603}, 'Irma': {'Name': 'Irma', 'Month': 'September', 'Year': 2017, 'Max Sustained Wind': 180, 'Areas Affected': ['Cape Verde', 'The Caribbean', 'British Virgin Islands', 'U.S. Virgin Islands', 'Cuba', 'Florida'], 'Damage': 64800000000.0, 'Deaths': 138}, 'Maria': {'Name': 'Maria', 'Month': 'September', 'Year': 2017, 'Max Sustained Wind': 175, 'Areas Affected': ['Lesser Antilles', 'Virgin Islands', 'Puerto Rico', 'Dominican Republic', 'Turks and Caicos Islands'], 'Damage': 91600000000.0, 'Deaths': 3057}, 'Michael': {'Name': 'Michael', 'Month': 'October', 'Year': 2018, 'Max Sustained Wind': 160, 'Areas Affected': ['Central America', 'United States Gulf Coast (especially Florida Panhandle)'], 'Damage': 25100000000.0, 'Deaths': 74}}\n"
     ]
    }
   ],
   "source": [
    "hurricanes = hurricane_dictionary(names, months, years, max_sustained_winds, areas_affected, damages_new, deaths) \n",
    "print(hurricanes)"
   ]
  },
  {
   "cell_type": "code",
   "execution_count": 9,
   "id": "ce6b7496",
   "metadata": {},
   "outputs": [
    {
     "name": "stdout",
     "output_type": "stream",
     "text": [
      "[{'Name': 'Bahamas', 'Month': 'September', 'Year': 1932, 'Max Sustained Wind': 160, 'Areas Affected': ['The Bahamas', 'Northeastern United States'], 'Damage': 'Damages not recorded', 'Deaths': 16}, {'Name': 'Cuba II', 'Month': 'November', 'Year': 1932, 'Max Sustained Wind': 175, 'Areas Affected': ['Lesser Antilles', 'Jamaica', 'Cayman Islands', 'Cuba', 'The Bahamas', 'Bermuda'], 'Damage': 40000000.0, 'Deaths': 3103}]\n"
     ]
    }
   ],
   "source": [
    "def year_dictionary(hurricanes):\n",
    "  hurricanes_by_year= dict()\n",
    "  for cane in hurricanes:\n",
    "      current_year = hurricanes[cane]['Year']\n",
    "      current_cane = hurricanes[cane]\n",
    "      if current_year not in hurricanes_by_year:\n",
    "          hurricanes_by_year[current_year] = [current_cane]\n",
    "      else:\n",
    "          hurricanes_by_year[current_year].append(current_cane)\n",
    "  return hurricanes_by_year\n",
    "hurricanes_by_year = year_dictionary(hurricanes)\n",
    "print(hurricanes_by_year[1932])"
   ]
  },
  {
   "cell_type": "code",
   "execution_count": 14,
   "id": "16803637",
   "metadata": {},
   "outputs": [
    {
     "name": "stdout",
     "output_type": "stream",
     "text": [
      "{'Central America': 9, 'Mexico': 7, 'Cuba': 6, 'Florida': 6, 'The Bahamas': 7, 'Lesser Antilles': 4, 'United States East Coast': 3, 'Atlantic Canada': 3, 'Northeastern United States': 2, 'Jamaica': 4, 'Cayman Islands': 1, 'Bermuda': 2, 'Texas': 4, 'Tamaulipas': 1, 'Yucatn Peninsula': 3, 'Georgia': 1, 'The Carolinas': 1, 'Virginia': 1, 'Southeastern United States': 1, 'Southwestern Quebec': 1, 'New England': 1, 'Louisiana': 1, 'Midwestern United States': 1, 'The Caribbean': 8, 'United States Gulf Coast': 6, 'United States East coast': 1, 'South Texas': 1, 'Venezuela': 3, 'Hispaniola': 1, 'South Florida': 1, 'Greater Antilles': 2, 'Bahamas': 2, 'Eastern United States': 1, 'Ontario': 1, 'Windward Islands': 1, 'Nicaragua': 1, 'Honduras': 1, 'Antilles': 1, 'Colombia': 1, 'Cape Verde': 1, 'British Virgin Islands': 1, 'U.S. Virgin Islands': 1, 'Virgin Islands': 1, 'Puerto Rico': 1, 'Dominican Republic': 1, 'Turks and Caicos Islands': 1, 'United States Gulf Coast (especially Florida Panhandle)': 1}\n"
     ]
    }
   ],
   "source": [
    "def area_affected_count(hurricanes):\n",
    "  count_area_affected = dict()\n",
    "  for cane in hurricanes:\n",
    "    for area in hurricanes[cane][\"Areas Affected\"]:\n",
    "      if area not in count_area_affected:\n",
    "        count_area_affected[area]=1\n",
    "      else:\n",
    "        count_area_affected[area] += 1\n",
    "  return count_area_affected      \n",
    "count_area_affected = area_affected_count(hurricanes)       \n",
    "print(count_area_affected)        "
   ]
  },
  {
   "cell_type": "code",
   "execution_count": 25,
   "id": "d137f7f3",
   "metadata": {},
   "outputs": [
    {
     "name": "stdout",
     "output_type": "stream",
     "text": [
      "The area that is most affected is Central America with an alarming 9 hurricanes.\n"
     ]
    }
   ],
   "source": [
    "def most_affected_area(count_area_affected):\n",
    "    max_area = \"Central America\"\n",
    "    max_area_count = 0\n",
    "    for area,count in count_area_affected.items():\n",
    "        if count>max_area_count:\n",
    "            max_area = area\n",
    "            max_area_count = count\n",
    "    return \"The area that is most affected is {max_area} with an alarming {max_area_count} hurricanes.\".format(max_area=max_area, max_area_count=max_area_count)\n",
    "most_affected_area = most_affected_area(count_area_affected)\n",
    "print(most_affected_area)"
   ]
  },
  {
   "cell_type": "code",
   "execution_count": 45,
   "id": "d74fc4bf",
   "metadata": {},
   "outputs": [
    {
     "name": "stdout",
     "output_type": "stream",
     "text": [
      "{'Cuba I': 90, 'San Felipe II Okeechobee': 4000, 'Bahamas': 16, 'Cuba II': 3103, 'CubaBrownsville': 179, 'Tampico': 184, 'Labor Day': 408, 'New England': 682, 'Carol': 5, 'Janet': 1023, 'Carla': 43, 'Hattie': 319, 'Beulah': 688, 'Camille': 259, 'Edith': 37, 'Anita': 11, 'David': 2068, 'Allen': 269, 'Gilbert': 318, 'Hugo': 107, 'Andrew': 65, 'Mitch': 19325, 'Isabel': 51, 'Ivan': 124, 'Emily': 17, 'Katrina': 1836, 'Rita': 125, 'Wilma': 87, 'Dean': 45, 'Felix': 133, 'Matthew': 603, 'Irma': 138, 'Maria': 3057, 'Michael': 74}\n"
     ]
    }
   ],
   "source": [
    "def hurricane_deaths(hurricanes):\n",
    "    count_hurricane_deaths = dict()\n",
    "    for cane in hurricanes:\n",
    "        for death_count in hurricanes[cane]:\n",
    "            death_count = hurricanes[cane][\"Deaths\"]\n",
    "            count_hurricane_deaths[cane] = death_count\n",
    "    return count_hurricane_deaths\n",
    "count_hurricane_deaths = hurricane_deaths(hurricanes)\n",
    "print(count_hurricane_deaths)\n",
    "\n",
    "\n",
    "   \n",
    "    \n",
    "    "
   ]
  },
  {
   "cell_type": "code",
   "execution_count": 46,
   "id": "f32adccb",
   "metadata": {},
   "outputs": [
    {
     "name": "stdout",
     "output_type": "stream",
     "text": [
      "The hurricane with the highest mortality rate is Mitch with a staggering death count of 19325.\n"
     ]
    }
   ],
   "source": [
    "def greatest_mortality(count_hurricane_deaths):\n",
    "    max_mortality_cane = \"Cuba I\"\n",
    "    max_mortality = 0\n",
    "    for cane,mortality in count_hurricane_deaths.items():\n",
    "        if mortality > max_mortality:\n",
    "            max_mortality = mortality\n",
    "            max_mortality_cane = cane\n",
    "    return \"The hurricane with the highest mortality rate is {max_mortality_cane} with a staggering death count of {max_mortality}.\".format(max_mortality_cane=max_mortality_cane, max_mortality=max_mortality)\n",
    "greatest_mortality_info = greatest_mortality(hurricane_death_count)\n",
    "print(greatest_mortality_info) "
   ]
  },
  {
   "cell_type": "code",
   "execution_count": 50,
   "id": "11fc7945",
   "metadata": {},
   "outputs": [
    {
     "name": "stdout",
     "output_type": "stream",
     "text": [
      "{0: [], 1: ['Cuba I', 'Bahamas', 'Carol', 'Carla', 'Edith', 'Anita', 'Andrew', 'Isabel', 'Emily', 'Wilma', 'Dean', 'Michael'], 2: ['CubaBrownsville', 'Tampico', 'Labor Day', 'Hattie', 'Camille', 'Allen', 'Gilbert', 'Hugo', 'Ivan', 'Rita', 'Felix', 'Irma'], 3: ['New England', 'Beulah', 'Matthew'], 4: ['San Felipe II Okeechobee', 'Cuba II', 'Janet', 'David', 'Katrina', 'Maria'], 5: ['Mitch']}\n"
     ]
    }
   ],
   "source": [
    "def organizing_by_mortality(count_hurricane_deaths):\n",
    "    hurricanes_by_mortality = {0:[],1:[],2:[],3:[],4:[],5:[]}\n",
    "    mortality_scale = {0: 0,\n",
    "                   1: 100,\n",
    "                   2: 500,\n",
    "                   3: 1000,\n",
    "                   4: 10000}\n",
    "    for cane,mortality in count_hurricane_deaths.items():\n",
    "        if mortality == mortality_scale[0]: \n",
    "            hurricanes_by_mortality[0].append(cane)\n",
    "        elif mortality > mortality_scale[0] and mortality <= mortality_scale[1]:\n",
    "            hurricanes_by_mortality[1].append(cane)\n",
    "        elif mortality > mortality_scale[1] and mortality <= mortality_scale[2]:\n",
    "            hurricanes_by_mortality[2].append(cane)    \n",
    "        elif mortality > mortality_scale[2] and mortality <= mortality_scale[3]:\n",
    "            hurricanes_by_mortality[3].append(cane)    \n",
    "        elif mortality > mortality_scale[3] and mortality <= mortality_scale[4]:\n",
    "            hurricanes_by_mortality[4].append(cane)\n",
    "        elif mortality > mortality_scale[4]:\n",
    "            hurricanes_by_mortality[5].append(cane) \n",
    "    return hurricanes_by_mortality\n",
    "print(organizing_by_mortality(count_hurricane_deaths))"
   ]
  },
  {
   "cell_type": "code",
   "execution_count": 55,
   "id": "18f99401",
   "metadata": {},
   "outputs": [
    {
     "name": "stdout",
     "output_type": "stream",
     "text": [
      "{'Cuba I': 'Damages not recorded', 'San Felipe II Okeechobee': 100000000.0, 'Bahamas': 'Damages not recorded', 'Cuba II': 40000000.0, 'CubaBrownsville': 27900000.0, 'Tampico': 5000000.0, 'Labor Day': 'Damages not recorded', 'New England': 306000000.0, 'Carol': 2000000.0, 'Janet': 65800000.0, 'Carla': 326000000.0, 'Hattie': 60300000.0, 'Beulah': 208000000.0, 'Camille': 1420000000.0, 'Edith': 25400000.0, 'Anita': 'Damages not recorded', 'David': 1540000000.0, 'Allen': 1240000000.0, 'Gilbert': 7100000000.0, 'Hugo': 10000000000.0, 'Andrew': 26500000000.0, 'Mitch': 6200000000.0, 'Isabel': 5370000000.0, 'Ivan': 23300000000.0, 'Emily': 1010000000.0, 'Katrina': 125000000000.0, 'Rita': 12000000000.0, 'Wilma': 29400000000.0, 'Dean': 1760000000.0, 'Felix': 720000000.0, 'Matthew': 15100000000.0, 'Irma': 64800000000.0, 'Maria': 91600000000.0, 'Michael': 25100000000.0}\n"
     ]
    }
   ],
   "source": [
    "def count_hurricane_damages(hurricanes):\n",
    "    hurricane_damages = dict()\n",
    "    for cane in hurricanes:\n",
    "        for damage_count in hurricanes[cane]:\n",
    "            damage_count = hurricanes[cane][\"Damage\"]\n",
    "            hurricane_damages[cane] = damage_count\n",
    "    return hurricane_damages\n",
    "hurricane_damages = count_hurricane_damages(hurricanes)\n",
    "print(hurricane_damages)\n",
    "           \n",
    "    "
   ]
  },
  {
   "cell_type": "code",
   "execution_count": 58,
   "id": "94f954ab",
   "metadata": {},
   "outputs": [
    {
     "name": "stdout",
     "output_type": "stream",
     "text": [
      "The Katrina hurricane caused the most damage. It costed $125000000000.0.\n"
     ]
    }
   ],
   "source": [
    "def greatest_damage(hurricane_damages):\n",
    "    max_damage_hurricane = \"Cuba I\"\n",
    "    max_damage = 0\n",
    "    for cane,damage in hurricane_damages.items():\n",
    "        if damage == 'Damages not recorded':\n",
    "            continue\n",
    "        elif damage > max_damage:\n",
    "            max_damage = damage\n",
    "            max_damage_hurricane = cane\n",
    "    return \"The {max_damage_hurricane} hurricane caused the most damage. It costed ${max_damage}.\".format(max_damage_hurricane=max_damage_hurricane, max_damage=max_damage)\n",
    "print(greatest_damage(hurricane_damages))"
   ]
  },
  {
   "cell_type": "code",
   "execution_count": 61,
   "id": "7531fb5c",
   "metadata": {},
   "outputs": [
    {
     "name": "stdout",
     "output_type": "stream",
     "text": [
      "{0: [], 1: ['San Felipe II Okeechobee', 'Cuba II', 'CubaBrownsville', 'Tampico', 'Carol', 'Janet', 'Hattie', 'Edith'], 2: ['New England', 'Carla', 'Beulah', 'Felix'], 3: ['Camille', 'David', 'Allen', 'Gilbert', 'Hugo', 'Mitch', 'Isabel', 'Emily', 'Dean'], 4: ['Andrew', 'Ivan', 'Rita', 'Wilma', 'Matthew', 'Michael'], 5: ['Katrina', 'Irma', 'Maria']}\n"
     ]
    }
   ],
   "source": [
    "def organizing_by_damage(hurricane_damages):\n",
    "    hurricanes_by_damage = {0:[],1:[],2:[],3:[],4:[],5:[]}\n",
    "    damage_scale = {0: 0,\n",
    "                1: 100000000,\n",
    "                2: 1000000000,\n",
    "                3: 10000000000,\n",
    "                4: 50000000000}\n",
    "    for cane,damage in hurricane_damages.items():\n",
    "        if damage == 'Damages not recorded':\n",
    "            continue\n",
    "        elif damage == damage_scale[0]: \n",
    "            hurricanes_by_damage[0].append(cane)\n",
    "        elif damage > damage_scale[0] and damage <= damage_scale[1]:\n",
    "            hurricanes_by_damage[1].append(cane)\n",
    "        elif damage > damage_scale[1] and damage <= damage_scale[2]:\n",
    "            hurricanes_by_damage[2].append(cane)\n",
    "        elif damage > damage_scale[2] and damage <= damage_scale[3]:\n",
    "            hurricanes_by_damage[3].append(cane)\n",
    "        elif damage > damage_scale[3] and damage <= damage_scale[4]:\n",
    "            hurricanes_by_damage[4].append(cane)  \n",
    "        elif damage > damage_scale[4]:\n",
    "            hurricanes_by_damage[5].append(cane) \n",
    "    return hurricanes_by_damage\n",
    "print(organizing_by_damage(hurricane_damages))"
   ]
  },
  {
   "cell_type": "code",
   "execution_count": null,
   "id": "94135a19",
   "metadata": {},
   "outputs": [],
   "source": []
  }
 ],
 "metadata": {
  "kernelspec": {
   "display_name": "Python 3 (ipykernel)",
   "language": "python",
   "name": "python3"
  },
  "language_info": {
   "codemirror_mode": {
    "name": "ipython",
    "version": 3
   },
   "file_extension": ".py",
   "mimetype": "text/x-python",
   "name": "python",
   "nbconvert_exporter": "python",
   "pygments_lexer": "ipython3",
   "version": "3.9.7"
  }
 },
 "nbformat": 4,
 "nbformat_minor": 5
}
